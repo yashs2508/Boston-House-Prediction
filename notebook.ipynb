{
 "cells": [
  {
   "cell_type": "code",
   "execution_count": null,
   "id": "5e879f20",
   "metadata": {},
   "outputs": [],
   "source": [
    "import pandas as pd\n",
    "import numpy as np\n",
    "import matplotlib.pyplot as plt\n",
    "import seaborn as sns\n",
    "%matplotlib inline"
   ]
  },
  {
   "cell_type": "markdown",
   "id": "e1f421e1",
   "metadata": {},
   "source": [
    "## Lets load the Boston Housing Pricing Dataset"
   ]
  },
  {
   "cell_type": "code",
   "execution_count": null,
   "id": "62f8ea94",
   "metadata": {},
   "outputs": [],
   "source": [
    "from sklearn.datasets import load_boston"
   ]
  },
  {
   "cell_type": "code",
   "execution_count": null,
   "id": "468759d2",
   "metadata": {},
   "outputs": [],
   "source": [
    "boston = load_boston()"
   ]
  },
  {
   "cell_type": "code",
   "execution_count": null,
   "id": "17f4869b",
   "metadata": {},
   "outputs": [],
   "source": [
    "boston.keys()"
   ]
  },
  {
   "cell_type": "code",
   "execution_count": null,
   "id": "5bfd54e8",
   "metadata": {
    "scrolled": true
   },
   "outputs": [],
   "source": [
    "# lets check the description of the dataset\n",
    "\n",
    "print(boston.DESCR)"
   ]
  },
  {
   "cell_type": "code",
   "execution_count": null,
   "id": "e1894f3b",
   "metadata": {},
   "outputs": [],
   "source": [
    "print(boston.feature_names)"
   ]
  },
  {
   "cell_type": "code",
   "execution_count": null,
   "id": "ff5d4b83",
   "metadata": {},
   "outputs": [],
   "source": [
    "print(boston.data)"
   ]
  },
  {
   "cell_type": "code",
   "execution_count": null,
   "id": "8ae596f0",
   "metadata": {},
   "outputs": [],
   "source": [
    "print(boston.target)"
   ]
  },
  {
   "cell_type": "markdown",
   "id": "851ad348",
   "metadata": {},
   "source": [
    "## Preparing the dataset"
   ]
  },
  {
   "cell_type": "code",
   "execution_count": null,
   "id": "f2086fb6",
   "metadata": {},
   "outputs": [],
   "source": [
    "df = pd.DataFrame(boston.data, columns = boston.feature_names)"
   ]
  },
  {
   "cell_type": "code",
   "execution_count": null,
   "id": "898d0539",
   "metadata": {},
   "outputs": [],
   "source": [
    "df['Price'] = boston.target "
   ]
  },
  {
   "cell_type": "code",
   "execution_count": null,
   "id": "9abf4dff",
   "metadata": {},
   "outputs": [],
   "source": [
    "df.head()"
   ]
  },
  {
   "cell_type": "code",
   "execution_count": null,
   "id": "4f210859",
   "metadata": {},
   "outputs": [],
   "source": [
    "df.info()"
   ]
  },
  {
   "cell_type": "code",
   "execution_count": null,
   "id": "b3c73d2c",
   "metadata": {},
   "outputs": [],
   "source": [
    "# Summarizing the dataset\n",
    "\n",
    "df.describe()"
   ]
  },
  {
   "cell_type": "code",
   "execution_count": null,
   "id": "df2ce9b7",
   "metadata": {},
   "outputs": [],
   "source": [
    "# Checking the missing values\n",
    "\n",
    "df.isnull().sum()"
   ]
  },
  {
   "cell_type": "markdown",
   "id": "37604ed1",
   "metadata": {},
   "source": [
    "# Exploratory Data Analysis"
   ]
  },
  {
   "cell_type": "markdown",
   "id": "76b82cae",
   "metadata": {},
   "source": [
    "## Correlation"
   ]
  },
  {
   "cell_type": "code",
   "execution_count": null,
   "id": "00aaf7b4",
   "metadata": {},
   "outputs": [],
   "source": [
    "df.corr()"
   ]
  },
  {
   "cell_type": "code",
   "execution_count": null,
   "id": "c2599fbf",
   "metadata": {},
   "outputs": [],
   "source": [
    "sns.pairplot(df)"
   ]
  },
  {
   "cell_type": "code",
   "execution_count": null,
   "id": "b689bbef",
   "metadata": {},
   "outputs": [],
   "source": [
    "plt.scatter(df['CRIM'], df['Price'])\n",
    "plt.xlabel('Crime Rate')\n",
    "plt.ylabel('Price')"
   ]
  },
  {
   "cell_type": "code",
   "execution_count": null,
   "id": "d7f075e0",
   "metadata": {},
   "outputs": [],
   "source": [
    "sns.regplot(x= 'LSTAT', y = 'Price', data = df)\n",
    "plt.xlabel('lower staus of population')\n",
    "plt.ylabel('Price of the house')"
   ]
  },
  {
   "cell_type": "code",
   "execution_count": null,
   "id": "b7e2f218",
   "metadata": {},
   "outputs": [],
   "source": [
    "# Lower status of the population and price of the house are negatively correlated"
   ]
  },
  {
   "cell_type": "code",
   "execution_count": null,
   "id": "82ecd31d",
   "metadata": {},
   "outputs": [],
   "source": [
    "sns.regplot(x= 'RM', y = 'Price', data = df)\n",
    "plt.xlabel('number of rooms per dwelling')\n",
    "plt.ylabel('Price of the house')"
   ]
  },
  {
   "cell_type": "code",
   "execution_count": null,
   "id": "da93e13d",
   "metadata": {},
   "outputs": [],
   "source": [
    "# Number of rooms per dwelling and price of the house are negatively correlated"
   ]
  },
  {
   "cell_type": "code",
   "execution_count": null,
   "id": "464343dd",
   "metadata": {},
   "outputs": [],
   "source": [
    "sns.regplot(x= 'CHAS', y = 'Price', data = df)"
   ]
  },
  {
   "cell_type": "code",
   "execution_count": null,
   "id": "2e1e3821",
   "metadata": {},
   "outputs": [],
   "source": [
    "sns.regplot(x= 'PTRATIO', y = 'Price', data = df)\n",
    "plt.xlabel('pupil teacher ratio')\n",
    "plt.ylabel('Price of the house')"
   ]
  },
  {
   "cell_type": "code",
   "execution_count": null,
   "id": "983cdabb",
   "metadata": {},
   "outputs": [],
   "source": [
    "# Pupil teacher ratio and price of the house are somewhat negatively correlated"
   ]
  },
  {
   "cell_type": "code",
   "execution_count": null,
   "id": "a39df61f",
   "metadata": {},
   "outputs": [],
   "source": [
    "## Independent and Dependent Features\n",
    "\n",
    "X = df.iloc[:,:-1]\n",
    "Y = df.iloc[:,-1]"
   ]
  },
  {
   "cell_type": "code",
   "execution_count": null,
   "id": "62c75eb3",
   "metadata": {},
   "outputs": [],
   "source": [
    "X.head()"
   ]
  },
  {
   "cell_type": "code",
   "execution_count": null,
   "id": "19171587",
   "metadata": {},
   "outputs": [],
   "source": [
    "Y"
   ]
  },
  {
   "cell_type": "code",
   "execution_count": null,
   "id": "f0ac0905",
   "metadata": {},
   "outputs": [],
   "source": [
    "# Train and Test Split\n",
    "from sklearn.model_selection import train_test_split\n",
    "X_train, X_test, Y_train, Y_test = train_test_split(X, Y, test_size = 0.3, random_state = 42)"
   ]
  },
  {
   "cell_type": "code",
   "execution_count": null,
   "id": "9514658f",
   "metadata": {},
   "outputs": [],
   "source": [
    "X_train"
   ]
  },
  {
   "cell_type": "code",
   "execution_count": null,
   "id": "c9343a44",
   "metadata": {},
   "outputs": [],
   "source": [
    "X_test"
   ]
  },
  {
   "cell_type": "code",
   "execution_count": null,
   "id": "c112e045",
   "metadata": {},
   "outputs": [],
   "source": [
    "Y_train"
   ]
  },
  {
   "cell_type": "code",
   "execution_count": null,
   "id": "dafc77d7",
   "metadata": {},
   "outputs": [],
   "source": [
    "Y_test"
   ]
  },
  {
   "cell_type": "code",
   "execution_count": null,
   "id": "ccfba815",
   "metadata": {},
   "outputs": [],
   "source": [
    "# Standardizing the dataset\n",
    "\n",
    "from sklearn.preprocessing import StandardScaler\n",
    "\n",
    "scaler = StandardScaler()"
   ]
  },
  {
   "cell_type": "code",
   "execution_count": null,
   "id": "7010f0da",
   "metadata": {},
   "outputs": [],
   "source": [
    "X_train = scaler.fit_transform(X_train)"
   ]
  },
  {
   "cell_type": "code",
   "execution_count": null,
   "id": "850eace4",
   "metadata": {},
   "outputs": [],
   "source": [
    "X_test = scaler.transform(X_test)"
   ]
  },
  {
   "cell_type": "markdown",
   "id": "616ffeec",
   "metadata": {},
   "source": [
    "# Model Training"
   ]
  },
  {
   "cell_type": "code",
   "execution_count": null,
   "id": "337f843a",
   "metadata": {},
   "outputs": [],
   "source": [
    "from sklearn.linear_model import LinearRegression"
   ]
  },
  {
   "cell_type": "code",
   "execution_count": null,
   "id": "c1a688be",
   "metadata": {},
   "outputs": [],
   "source": [
    "regression = LinearRegression()"
   ]
  },
  {
   "cell_type": "code",
   "execution_count": null,
   "id": "a489329d",
   "metadata": {},
   "outputs": [],
   "source": [
    "regression.fit(X_train,Y_train)"
   ]
  },
  {
   "cell_type": "code",
   "execution_count": null,
   "id": "aeb3a401",
   "metadata": {},
   "outputs": [],
   "source": [
    "print(regression.coef_)"
   ]
  },
  {
   "cell_type": "code",
   "execution_count": null,
   "id": "9bc10868",
   "metadata": {},
   "outputs": [],
   "source": [
    "print(regression.intercept_)"
   ]
  },
  {
   "cell_type": "code",
   "execution_count": null,
   "id": "33e9fcd5",
   "metadata": {},
   "outputs": [],
   "source": [
    "## on which parameter this model has been trained\n",
    "regression.get_params()"
   ]
  },
  {
   "cell_type": "code",
   "execution_count": null,
   "id": "ce6453a7",
   "metadata": {},
   "outputs": [],
   "source": [
    "## Prediction with test data\n",
    "reg_pred = regression.predict(X_test)"
   ]
  },
  {
   "cell_type": "code",
   "execution_count": null,
   "id": "f9065b76",
   "metadata": {},
   "outputs": [],
   "source": [
    "reg_pred"
   ]
  },
  {
   "cell_type": "code",
   "execution_count": null,
   "id": "e63d5e37",
   "metadata": {},
   "outputs": [],
   "source": [
    "## plot a scatter plot for prediction\n",
    "plt.scatter(Y_test,reg_pred)"
   ]
  },
  {
   "cell_type": "code",
   "execution_count": null,
   "id": "3bbca505",
   "metadata": {},
   "outputs": [],
   "source": [
    "## Calculating residuals\n",
    "residuals = Y_test - reg_pred\n",
    "residuals"
   ]
  },
  {
   "cell_type": "code",
   "execution_count": null,
   "id": "fe53320d",
   "metadata": {},
   "outputs": [],
   "source": [
    "sns.displot(residuals, kind ='kde')"
   ]
  },
  {
   "cell_type": "code",
   "execution_count": null,
   "id": "6131b61e",
   "metadata": {},
   "outputs": [],
   "source": [
    "# a scatter plot between predicted values and residuals\n",
    "# uniform distribution\n",
    "plt.scatter(reg_pred, residuals)"
   ]
  },
  {
   "cell_type": "code",
   "execution_count": null,
   "id": "7723464b",
   "metadata": {},
   "outputs": [],
   "source": [
    "from sklearn.metrics import mean_absolute_error\n",
    "from sklearn.metrics import mean_squared_error\n",
    "\n",
    "print(mean_absolute_error(Y_test, reg_pred))\n",
    "print(mean_squared_error(Y_test, reg_pred))\n",
    "print(np.sqrt(mean_squared_error(Y_test, reg_pred)))"
   ]
  },
  {
   "cell_type": "markdown",
   "id": "0bf1620d",
   "metadata": {},
   "source": [
    "# R square and adjusted R square"
   ]
  },
  {
   "cell_type": "code",
   "execution_count": null,
   "id": "9233cf4a",
   "metadata": {},
   "outputs": [],
   "source": [
    "from sklearn.metrics import r2_score\n",
    "score = r2_score(Y_test, reg_pred)\n",
    "print(score)"
   ]
  },
  {
   "cell_type": "code",
   "execution_count": null,
   "id": "3f4657f4",
   "metadata": {},
   "outputs": [],
   "source": [
    "adj_r = 1 - (1-score)*(len(Y_test)-1)/(len(Y_test)-X_test.shape[1]-1)\n",
    "print(adj_r)"
   ]
  },
  {
   "cell_type": "markdown",
   "id": "9a6f7f07",
   "metadata": {},
   "source": [
    "# New Data Prediction"
   ]
  },
  {
   "cell_type": "code",
   "execution_count": null,
   "id": "ecee1771",
   "metadata": {},
   "outputs": [],
   "source": [
    "boston.data[0].reshape(1,-1)"
   ]
  },
  {
   "cell_type": "code",
   "execution_count": null,
   "id": "894dba2b",
   "metadata": {},
   "outputs": [],
   "source": [
    "#transform the above set\n",
    "scaler.transform(boston.data[0].reshape(1,-1))"
   ]
  },
  {
   "cell_type": "code",
   "execution_count": null,
   "id": "c5ca4323",
   "metadata": {},
   "outputs": [],
   "source": [
    "regression.predict(scaler.transform(boston.data[0].reshape(1,-1)))"
   ]
  },
  {
   "cell_type": "markdown",
   "id": "0d3025ac",
   "metadata": {},
   "source": [
    "# Pickling the Model for Deployment"
   ]
  },
  {
   "cell_type": "code",
   "execution_count": null,
   "id": "364876a4",
   "metadata": {},
   "outputs": [],
   "source": [
    "import pickle"
   ]
  },
  {
   "cell_type": "code",
   "execution_count": null,
   "id": "b6d4d382",
   "metadata": {},
   "outputs": [],
   "source": [
    "pickle.dump(regression, open('regmodel.pkl','wb'))"
   ]
  },
  {
   "cell_type": "code",
   "execution_count": null,
   "id": "27287221",
   "metadata": {},
   "outputs": [],
   "source": [
    "pickled_model = pickle.load(open('regmodel.pkl','rb'))"
   ]
  },
  {
   "cell_type": "code",
   "execution_count": null,
   "id": "041ebf27",
   "metadata": {},
   "outputs": [],
   "source": [
    "pickled_model.predict(scaler.transform(boston.data[0].reshape(1,-1)))"
   ]
  },
  {
   "cell_type": "code",
   "execution_count": null,
   "id": "17bc244e",
   "metadata": {},
   "outputs": [],
   "source": []
  }
 ],
 "metadata": {
  "kernelspec": {
   "display_name": "Python 3.9.5 64-bit",
   "language": "python",
   "name": "python3"
  },
  "language_info": {
   "codemirror_mode": {
    "name": "ipython",
    "version": 3
   },
   "file_extension": ".py",
   "mimetype": "text/x-python",
   "name": "python",
   "nbconvert_exporter": "python",
   "pygments_lexer": "ipython3",
   "version": "3.9.5"
  },
  "vscode": {
   "interpreter": {
    "hash": "b3910bc5e658ccb05c7721c4d0a7851e66cc90bf127b2b95c68ad042ea7f2d06"
   }
  }
 },
 "nbformat": 4,
 "nbformat_minor": 5
}
